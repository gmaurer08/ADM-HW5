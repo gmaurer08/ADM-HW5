{
 "cells": [
  {
   "cell_type": "markdown",
   "metadata": {},
   "source": [
    "---\n",
    "\n",
    "# 3 Finding Best Routes (Q3)\n",
    "Whenever you plan to fly to a specific city, your goal is to find the most efficient and fastest flight to reach your destination. In the system you are designing, the best route is defined as the one that minimizes the total distance flown to the greatest extent possible.\n",
    "> In this task, you need to implement a function that, given an origin and destination city, determines the best possible route between them. To simplify, the focus will be limited to flights operating on a specific day.\n",
    "\n",
    "Note: Each city may have multiple airports; in such cases, the function should calculate the best route for every possible airport pair between the two cities. For example, if city A has airports a1, a2, and city B has b1, b2, the function should compute the best routes for a1 → b1, a1 → b2, a2 → b1 and a2 → b2. If it's not possible to travel from one airport in the origin city to another airport in the destination city on that date, you must report it as well.\n",
    "\n",
    "The function takes the following inputs:\n",
    "1. Flights network\n",
    "2. Origin city name\n",
    "3. Destination city name\n",
    "4. Considered Date (in yyyy-mm-dd format)\n",
    "\n",
    "The function output:\n",
    "1. A table with three columns: 'Origin _city_airport, 'Destination_city_airport', and the 'Best_route.\n",
    "\n",
    "Note: In the \"Best _route\" column, we expect a list of airport names connected by →, showing the order in which they are to be visited during the optimal route. If no such route exists, the entry should display \"No route found.\"\n",
    "\n",
    "---"
   ]
  },
  {
   "cell_type": "code",
   "execution_count": 1,
   "metadata": {},
   "outputs": [],
   "source": [
    "import modules.shortest_path\n",
    "import pandas as pd\n",
    "import numpy as np\n",
    "df = pd.read_csv('Airports2.csv')\n",
    "df = df.drop_duplicates(keep='last') # Drop duplicates, keeping the last entry"
   ]
  },
  {
   "cell_type": "markdown",
   "metadata": {},
   "source": [
    "Having loaded the data and removed duplicate entries by keeping the last entries only, we can proceed with selecting only the relevant columns for the task of Question 3. Namely by selecting by only keeping the columns 'Origin_airport', 'Destination_airport', 'Fly_date', 'Origin_city', 'Destination_city', 'Distance' and making a new dataframe, **working_df**."
   ]
  },
  {
   "cell_type": "code",
   "execution_count": 3,
   "metadata": {},
   "outputs": [
    {
     "data": {
      "text/html": [
       "<div>\n",
       "<style scoped>\n",
       "    .dataframe tbody tr th:only-of-type {\n",
       "        vertical-align: middle;\n",
       "    }\n",
       "\n",
       "    .dataframe tbody tr th {\n",
       "        vertical-align: top;\n",
       "    }\n",
       "\n",
       "    .dataframe thead th {\n",
       "        text-align: right;\n",
       "    }\n",
       "</style>\n",
       "<table border=\"1\" class=\"dataframe\">\n",
       "  <thead>\n",
       "    <tr style=\"text-align: right;\">\n",
       "      <th></th>\n",
       "      <th>Origin_airport</th>\n",
       "      <th>Destination_airport</th>\n",
       "      <th>Origin_city</th>\n",
       "      <th>Destination_city</th>\n",
       "      <th>Passengers</th>\n",
       "      <th>Seats</th>\n",
       "      <th>Flights</th>\n",
       "      <th>Distance</th>\n",
       "      <th>Fly_date</th>\n",
       "      <th>Origin_population</th>\n",
       "      <th>Destination_population</th>\n",
       "      <th>Org_airport_lat</th>\n",
       "      <th>Org_airport_long</th>\n",
       "      <th>Dest_airport_lat</th>\n",
       "      <th>Dest_airport_long</th>\n",
       "    </tr>\n",
       "  </thead>\n",
       "  <tbody>\n",
       "    <tr>\n",
       "      <th>0</th>\n",
       "      <td>MHK</td>\n",
       "      <td>AMW</td>\n",
       "      <td>Manhattan, KS</td>\n",
       "      <td>Ames, IA</td>\n",
       "      <td>21</td>\n",
       "      <td>30</td>\n",
       "      <td>1</td>\n",
       "      <td>254</td>\n",
       "      <td>2008-10-01</td>\n",
       "      <td>122049</td>\n",
       "      <td>86219</td>\n",
       "      <td>39.140999</td>\n",
       "      <td>-96.670799</td>\n",
       "      <td>NaN</td>\n",
       "      <td>NaN</td>\n",
       "    </tr>\n",
       "    <tr>\n",
       "      <th>1</th>\n",
       "      <td>EUG</td>\n",
       "      <td>RDM</td>\n",
       "      <td>Eugene, OR</td>\n",
       "      <td>Bend, OR</td>\n",
       "      <td>41</td>\n",
       "      <td>396</td>\n",
       "      <td>22</td>\n",
       "      <td>103</td>\n",
       "      <td>1990-11-01</td>\n",
       "      <td>284093</td>\n",
       "      <td>76034</td>\n",
       "      <td>44.124599</td>\n",
       "      <td>-123.211998</td>\n",
       "      <td>44.254101</td>\n",
       "      <td>-121.150002</td>\n",
       "    </tr>\n",
       "    <tr>\n",
       "      <th>2</th>\n",
       "      <td>EUG</td>\n",
       "      <td>RDM</td>\n",
       "      <td>Eugene, OR</td>\n",
       "      <td>Bend, OR</td>\n",
       "      <td>88</td>\n",
       "      <td>342</td>\n",
       "      <td>19</td>\n",
       "      <td>103</td>\n",
       "      <td>1990-12-01</td>\n",
       "      <td>284093</td>\n",
       "      <td>76034</td>\n",
       "      <td>44.124599</td>\n",
       "      <td>-123.211998</td>\n",
       "      <td>44.254101</td>\n",
       "      <td>-121.150002</td>\n",
       "    </tr>\n",
       "    <tr>\n",
       "      <th>3</th>\n",
       "      <td>EUG</td>\n",
       "      <td>RDM</td>\n",
       "      <td>Eugene, OR</td>\n",
       "      <td>Bend, OR</td>\n",
       "      <td>11</td>\n",
       "      <td>72</td>\n",
       "      <td>4</td>\n",
       "      <td>103</td>\n",
       "      <td>1990-10-01</td>\n",
       "      <td>284093</td>\n",
       "      <td>76034</td>\n",
       "      <td>44.124599</td>\n",
       "      <td>-123.211998</td>\n",
       "      <td>44.254101</td>\n",
       "      <td>-121.150002</td>\n",
       "    </tr>\n",
       "    <tr>\n",
       "      <th>4</th>\n",
       "      <td>MFR</td>\n",
       "      <td>RDM</td>\n",
       "      <td>Medford, OR</td>\n",
       "      <td>Bend, OR</td>\n",
       "      <td>0</td>\n",
       "      <td>18</td>\n",
       "      <td>1</td>\n",
       "      <td>156</td>\n",
       "      <td>1990-02-01</td>\n",
       "      <td>147300</td>\n",
       "      <td>76034</td>\n",
       "      <td>42.374199</td>\n",
       "      <td>-122.873001</td>\n",
       "      <td>44.254101</td>\n",
       "      <td>-121.150002</td>\n",
       "    </tr>\n",
       "  </tbody>\n",
       "</table>\n",
       "</div>"
      ],
      "text/plain": [
       "  Origin_airport Destination_airport    Origin_city Destination_city  \\\n",
       "0            MHK                 AMW  Manhattan, KS         Ames, IA   \n",
       "1            EUG                 RDM     Eugene, OR         Bend, OR   \n",
       "2            EUG                 RDM     Eugene, OR         Bend, OR   \n",
       "3            EUG                 RDM     Eugene, OR         Bend, OR   \n",
       "4            MFR                 RDM    Medford, OR         Bend, OR   \n",
       "\n",
       "   Passengers  Seats  Flights  Distance    Fly_date  Origin_population  \\\n",
       "0          21     30        1       254  2008-10-01             122049   \n",
       "1          41    396       22       103  1990-11-01             284093   \n",
       "2          88    342       19       103  1990-12-01             284093   \n",
       "3          11     72        4       103  1990-10-01             284093   \n",
       "4           0     18        1       156  1990-02-01             147300   \n",
       "\n",
       "   Destination_population  Org_airport_lat  Org_airport_long  \\\n",
       "0                   86219        39.140999        -96.670799   \n",
       "1                   76034        44.124599       -123.211998   \n",
       "2                   76034        44.124599       -123.211998   \n",
       "3                   76034        44.124599       -123.211998   \n",
       "4                   76034        42.374199       -122.873001   \n",
       "\n",
       "   Dest_airport_lat  Dest_airport_long  \n",
       "0               NaN                NaN  \n",
       "1         44.254101        -121.150002  \n",
       "2         44.254101        -121.150002  \n",
       "3         44.254101        -121.150002  \n",
       "4         44.254101        -121.150002  "
      ]
     },
     "execution_count": 3,
     "metadata": {},
     "output_type": "execute_result"
    }
   ],
   "source": [
    "df.head()"
   ]
  },
  {
   "cell_type": "code",
   "execution_count": 2,
   "metadata": {},
   "outputs": [],
   "source": [
    "# I need origin_airport, destination_airport, fly_date, origin_city, destination_city, and distance\n",
    "working_df = df[['Origin_airport', 'Destination_airport', 'Fly_date', 'Origin_city', 'Destination_city', 'Distance']].copy()"
   ]
  },
  {
   "cell_type": "markdown",
   "metadata": {},
   "source": [
    "Performing some sanity checks below:"
   ]
  },
  {
   "cell_type": "code",
   "execution_count": 5,
   "metadata": {},
   "outputs": [
    {
     "data": {
      "text/plain": [
       "Origin_airport         0\n",
       "Destination_airport    0\n",
       "Fly_date               0\n",
       "Origin_city            0\n",
       "Destination_city       0\n",
       "Distance               0\n",
       "dtype: int64"
      ]
     },
     "execution_count": 5,
     "metadata": {},
     "output_type": "execute_result"
    }
   ],
   "source": [
    "working_df.isna().sum()"
   ]
  },
  {
   "cell_type": "code",
   "execution_count": 6,
   "metadata": {},
   "outputs": [
    {
     "data": {
      "text/plain": [
       "Origin_airport         object\n",
       "Destination_airport    object\n",
       "Fly_date               object\n",
       "Origin_city            object\n",
       "Destination_city       object\n",
       "Distance                int64\n",
       "dtype: object"
      ]
     },
     "execution_count": 6,
     "metadata": {},
     "output_type": "execute_result"
    }
   ],
   "source": [
    "working_df.dtypes"
   ]
  },
  {
   "cell_type": "code",
   "execution_count": 7,
   "metadata": {},
   "outputs": [
    {
     "name": "stdout",
     "output_type": "stream",
     "text": [
      "Any empty values in 'Origin_airport' column: 0\n",
      "Any empty values in 'Destination_airport' column: 0\n",
      "Any empty values in 'Fly_date' column: 0\n",
      "Any empty values in 'Origin_city' column: 0\n",
      "Any empty values in 'Destination_city' column: 0\n",
      "Any NA value in 'Distance' column: 0\n"
     ]
    }
   ],
   "source": [
    "print(f\"Any empty values in 'Origin_airport' column: {sum(working_df.Origin_airport == \"\")}\") # check if there are empty strings in Origin_airport\n",
    "print(f\"Any empty values in 'Destination_airport' column: {sum(working_df.Destination_airport == \"\")}\") # check if there are empty strings in Destination_airport\n",
    "print(f\"Any empty values in 'Fly_date' column: {sum(working_df.Fly_date == \"\")}\") # check if there are empty strings in Fly_date\n",
    "print(f\"Any empty values in 'Origin_city' column: {sum(working_df.Origin_city == \"\")}\") # check if there are empty strings in Origin_city\n",
    "print(f\"Any empty values in 'Destination_city' column: {sum(working_df.Destination_city == \"\")}\") # check if there are empty strings in Destination_city\n",
    "print(f\"Any NA value in 'Distance' column: {working_df.Distance.isna().sum()}\") # check if there are empty strings in Distance"
   ]
  },
  {
   "cell_type": "code",
   "execution_count": 3,
   "metadata": {},
   "outputs": [],
   "source": [
    "working_df.Origin_airport = working_df.Origin_airport.str.strip()\n",
    "working_df.Destination_airport = working_df.Destination_airport.str.strip()\n",
    "working_df.Fly_date = working_df.Fly_date.str.strip()\n",
    "working_df.Origin_city = working_df.Origin_city.str.strip()\n",
    "working_df.Destination_city = working_df.Destination_city.str.strip()"
   ]
  },
  {
   "cell_type": "markdown",
   "metadata": {},
   "source": [
    "Because the algorithm we will use to find the shortest path in terms of distances requires non negative weights (distances), referring to Dijkstra's Algorithm, we have to ensure that no distance in the dataframe is negative and if, a few of them are negative, perhaps due to errors, we will remove those records."
   ]
  },
  {
   "cell_type": "code",
   "execution_count": 4,
   "metadata": {},
   "outputs": [
    {
     "name": "stdout",
     "output_type": "stream",
     "text": [
      "Is there any record of flight with negative distance? Answer: No\n"
     ]
    }
   ],
   "source": [
    "working_df.Distance = working_df.Distance.astype(int)\n",
    "print(f\"Is there any record of flight with negative distance? Answer: {'Yes' if np.any(working_df.Distance < 0) else 'No'}\")"
   ]
  },
  {
   "cell_type": "markdown",
   "metadata": {},
   "source": [
    "We will now proceed to convert our dataframe to a __network__ of flights by making use of NetworkX data structure. We will create a flight network, using the `create_flight_network` defined in __shortest_path__ module, that takes in a dataframe and returns a Directed Graph (based on NetworkX data structure) along with relevant nodes, edges, and *data*."
   ]
  },
  {
   "cell_type": "code",
   "execution_count": 6,
   "metadata": {},
   "outputs": [
    {
     "name": "stdout",
     "output_type": "stream",
     "text": [
      "Help on function create_flight_network in module modules.shortest_path:\n",
      "\n",
      "create_flight_network(working_df)\n",
      "    Input:\n",
      "    working_df: pd.DataFrame, the working dataframe\n",
      "    \n",
      "    Output:\n",
      "    G: nx.DiGraph, the flight network\n",
      "    \n",
      "    About:\n",
      "    This function creates a directed graph using the networkx library.\n",
      "    The nodes of the graph are the airports and the edges are the flights between the airports.\n",
      "    The graph has the following attributes:\n",
      "    - Node attributes: city\n",
      "    - Edge attributes: distance, date\n",
      "\n"
     ]
    },
    {
     "name": "stderr",
     "output_type": "stream",
     "text": [
      "100%|██████████| 3565050/3565050 [00:05<00:00, 603082.35it/s]\n"
     ]
    }
   ],
   "source": [
    "help(modules.shortest_path.create_flight_network)\n",
    "flight_network = modules.shortest_path.create_flight_network(working_df)"
   ]
  },
  {
   "cell_type": "code",
   "execution_count": 11,
   "metadata": {},
   "outputs": [],
   "source": [
    "import zipfile\n",
    "import pandas as pd\n",
    "import numpy as np\n",
    "import matplotlib.pyplot as plt\n",
    "import networkx as nx\n",
    "import re\n",
    "from collections import defaultdict\n",
    "import folium\n",
    "import requests\n",
    "import time\n",
    "from modules.graph import *\n",
    "from modules.utils import *\n",
    "from modules.shortest_path import *\n",
    "from IPython.display import display\n",
    "import random\n",
    "import heapq\n",
    "from collections import deque\n",
    "import math"
   ]
  },
  {
   "cell_type": "code",
   "execution_count": 26,
   "metadata": {},
   "outputs": [],
   "source": [
    "def degree_centrality(G, node):\n",
    "    '''\n",
    "    Function that calculates the degree centrality of a node based on the number of neighbors\n",
    "    Inputs:\n",
    "    - G (nx.DiGraph): graph of the flight network\n",
    "    - node (str): node of the airport\n",
    "    Outputs:\n",
    "    - int: degree centrality of the node, number of neighbors\n",
    "    '''\n",
    "    return G.degree(node) / (G.number_of_nodes()-1)\n",
    "\n",
    "def closeness_centrality(G, node):\n",
    "    '''\n",
    "    Function that calculates the closeness centrality of a node\n",
    "    Inputs:\n",
    "    - G (nx.DiGraph): graph of the flight network\n",
    "    - node (str): node of the airport\n",
    "    Outputs:\n",
    "    - int: closeness centrality of the node\n",
    "    '''\n",
    "    distances, _ = deploy_dijkstra(G, node) # compute distances to each other node\n",
    "    reachable = [x for x in distances.values() if x < float('inf')] # keep only reachable nodes\n",
    "    if len(reachable) <=1: # if there are no reachable nodes, return 0\n",
    "        return 0\n",
    "    normalization = (G.number_of_nodes() - 1) / (len(reachable) - 1) # optional\n",
    "    return (G.number_of_nodes()-1) / sum(reachable) * normalization\n",
    "\n",
    "def betweenness_centrality(G, node=None):\n",
    "    '''\n",
    "    Function that calculates the betweenness centrality of a node\n",
    "    Inputs:\n",
    "    - G (nx.DiGraph): graph of the flight network\n",
    "    - node (str): node of the airport\n",
    "    Outputs:\n",
    "    - int: betweenness centrality of the node if indicated, all betweenness centralities otherwise\n",
    "    '''\n",
    "    C_B = defaultdict(float) # initialize default dictionaries of betwenness centrality scores\n",
    "\n",
    "    # Iterate over source nodes s\n",
    "    for s in G.nodes:\n",
    "\n",
    "        # Initializations\n",
    "        distances = {x: float('inf') for x in G.nodes} # intialize distances to s (lengths of shortest paths)\n",
    "        distances[s] = 0 # set distance of s to itself to 0\n",
    "        predecessors = defaultdict(list) # initialize defaultdict of predecessors\n",
    "        pq = [(0,s)] # initialize priority queue\n",
    "        num_shortest_paths = defaultdict(int) # initialize dictionary of numbers of shortest paths\n",
    "        num_shortest_paths[s] = 1 # number of shortest paths of source is 1\n",
    "        backtrack_stack = deque() # initialize empty stack for backtracking\n",
    "\n",
    "        # Convert priority queue into a heap\n",
    "        heapq.heapify(pq)\n",
    "        \n",
    "        #print(f'Computing Dijkstra for airport {s} now.')\n",
    "\n",
    "        # Dijkstra loop\n",
    "        while len(pq)>0:\n",
    "            # Extract tuple (distance, node) with smallest distance from the heap\n",
    "            current_distance, current_node = heapq.heappop(pq)\n",
    "            # Add current_node to backtrack_stack\n",
    "            backtrack_stack.append(current_node)\n",
    "            # If the current distance is larger than the distance of the current node\n",
    "            if current_distance > distances[current_node]:\n",
    "                continue # Skip the rest of the loop\n",
    "\n",
    "            # Iterate over the neighbors of current_node\n",
    "            for neighbor in G.successors(current_node):\n",
    "                \n",
    "                #print(f'Analyzing neighbor {neighbor} of {current_node}')\n",
    "\n",
    "                # Compute the distance do the neighbor using the 'distance' attribute\n",
    "                edge_weight = G[current_node][neighbor]['distance']\n",
    "                # Compute new distance\n",
    "                new_distance = current_distance + edge_weight\n",
    "                # See if the new distance is smaller than the previous distance to the neighbor\n",
    "                if distances[neighbor] > new_distance:\n",
    "                    # Update distance of this neighbor to the source s\n",
    "                    distances[neighbor] = new_distance\n",
    "                    # Update number of shortest paths from s to neighbor\n",
    "                    num_shortest_paths[neighbor] = num_shortest_paths[current_node]\n",
    "                    # Update priority queue, pushing the neighbor with the new distance\n",
    "                    heapq.heappush(pq, (new_distance, neighbor))\n",
    "                    # Update predecessors\n",
    "                    predecessors[neighbor] = [current_node]\n",
    "                # See if the new distance is equally long as the previous one\n",
    "                elif distances[neighbor] == new_distance:\n",
    "                    # Update number of shortest paths from source to the neighbor\n",
    "                    num_shortest_paths[neighbor] += num_shortest_paths[current_node]\n",
    "                    # Update predecessors\n",
    "                    predecessors[neighbor].append(current_node)\n",
    "            \n",
    "        # Initialize dictionary of dependencies\n",
    "        dependencies = defaultdict(float)\n",
    "\n",
    "        #print(f'Backtracking for airport {s} now.')\n",
    "        \n",
    "        # Backpropagation through the graph to find dependencies\n",
    "        while backtrack_stack:\n",
    "            # Take last element from the stack\n",
    "            current_node = backtrack_stack.pop()\n",
    "            # Iterate over the predecessors of the current node\n",
    "            for predecessor in predecessors[current_node]:\n",
    "                # Update dependency of source s on predecessor\n",
    "                dependencies[predecessor] += (num_shortest_paths[predecessor] / num_shortest_paths[current_node]) * (1 + dependencies[current_node])                # If the current node is not the source node\n",
    "            if current_node != s:\n",
    "                # Update betweenness centrality\n",
    "                C_B[current_node] += dependencies[current_node]\n",
    "\n",
    "    # Compute normalization\n",
    "    n = G.number_of_nodes()\n",
    "    normalization = (n-1) * (n-2)\n",
    "\n",
    "    # Normalize betweenness centralities\n",
    "    for key in C_B.keys():\n",
    "        C_B[key] /= normalization\n",
    "\n",
    "    # return betweenness centrality of target node\n",
    "    if node:\n",
    "        return C_B[node]\n",
    "    return C_B\n",
    "    \n",
    "\n",
    "def pagerank(G, node, a=0.5, seed=42, T=10000):\n",
    "    '''\n",
    "    Function that calculates the betweenness centrality of a node\n",
    "    Inputs:\n",
    "    - G (nx.DiGraph): graph of the flight network\n",
    "    - node (str): starting node\n",
    "    - a (int): parameter in [0,1]\n",
    "    - seed (int): random seed\n",
    "    - T (int): nuber of steps\n",
    "    Outputs:\n",
    "    - int: betweenness centrality of the node\n",
    "    '''\n",
    "    random.seed(seed) # set random seed\n",
    "    t = 1\n",
    "    current = node # starting node\n",
    "    freq = defaultdict(int) # initialize defaultdict to measure the frequency with which a node is seen\n",
    "\n",
    "    # Random walk through the airport graph\n",
    "    while t<T+1:\n",
    "        coin_flip = random.choices([0, 1], weights=[1-a, a], k=1)[0] # flip a coin\n",
    "\n",
    "        # If outcome is 0, go to a random out-neighbor of the current node\n",
    "        if coin_flip==0:\n",
    "            current = random.choice(list(G.successors(node)))\n",
    "        \n",
    "        # If outcome is 1, go to a random node\n",
    "        if coin_flip==1:\n",
    "            current = random.choice(list(G.nodes))\n",
    "        \n",
    "        freq[current] +=1\n",
    "        t += 1\n",
    "    \n",
    "    # Set the Pagerank\n",
    "    Pagerank = defaultdict(int)\n",
    "    for u in G.nodes:\n",
    "        Pagerank[u] = freq[u] / T\n",
    "\n",
    "    return Pagerank[node]"
   ]
  },
  {
   "cell_type": "code",
   "execution_count": 124,
   "metadata": {},
   "outputs": [],
   "source": [
    "from heapq import heappop, heappush  # Import heap functions for priority queue operations\n",
    "from itertools import count  # Import count to generate unique sequence numbers\n",
    "\n",
    "def betweenness_centrality(G):\n",
    "    \"\"\"\n",
    "    Calculate the betweenness centrality for a directed, weighted G.\n",
    "\n",
    "    Parameters:\n",
    "        G (dict): A directed, weighted G represented as an adjacency list.\n",
    "\n",
    "    Returns:\n",
    "        dict: A dictionary with nodes as keys and their betweenness centrality as values.\n",
    "    \"\"\"\n",
    "\n",
    "    # Initialize betweenness centrality for each node to 0.0\n",
    "    centrality = dict.fromkeys(G, 0.0)\n",
    "    all_nodes = G  # Extract all nodes from the G\n",
    "\n",
    "    # Iterate over all nodes in the G to calculate their contributions to centrality\n",
    "    for start_node in all_nodes:\n",
    "\n",
    "        # Dijkstra's algorithm setup\n",
    "        visited_stack = []  # Stack to keep track of the nodes visited in order\n",
    "        predecessors = {}  # Dictionary to store predecessors of each node\n",
    "        for node in G:\n",
    "            predecessors[node] = []\n",
    "\n",
    "        path_count = dict.fromkeys(G, 0.0)  # Initialize path counts for each node\n",
    "        shortest_distances = {}  # Dictionary to store shortest distances from the start node\n",
    "        path_count[start_node] = 1.0  # There's one path to the start node itself\n",
    "\n",
    "        # Priority queue for nodes to be explored; stores (distance, unique ID, predecessor, current node)\n",
    "        push = heappush\n",
    "        pop = heappop\n",
    "        seen_distances = {start_node: 0}  # Dictionary to track the minimum distance seen for each node\n",
    "        node_counter = count()  # Unique sequence numbers for heap operations\n",
    "        priority_queue = []\n",
    "        push(priority_queue, (0, next(node_counter), start_node, start_node))\n",
    "\n",
    "        # Process the priority queue until empty\n",
    "        while priority_queue:\n",
    "            (current_distance, _, from_node, current_node) = pop(priority_queue)\n",
    "\n",
    "            # Skip processing if the node is already finalized\n",
    "            if current_node in shortest_distances:\n",
    "                continue\n",
    "\n",
    "            # Update the number of shortest paths to the current node\n",
    "            path_count[current_node] += path_count[from_node]\n",
    "            visited_stack.append(current_node)  # Add the current node to the stack\n",
    "\n",
    "            # Finalize the shortest distance to the current node\n",
    "            shortest_distances[current_node] = current_distance\n",
    "\n",
    "            # Explore neighbors of the current node\n",
    "            for neighbor, _ in G[current_node].items():\n",
    "                distance_to_neighbor = current_distance + G.edges[current_node, neighbor]['distance']\n",
    "\n",
    "                # If a shorter path to the neighbor is found, update the priority queue and path counts\n",
    "                if neighbor not in shortest_distances and (neighbor not in seen_distances or distance_to_neighbor < seen_distances[neighbor]):\n",
    "                    seen_distances[neighbor] = distance_to_neighbor\n",
    "                    push(priority_queue, (distance_to_neighbor, next(node_counter), current_node, neighbor))\n",
    "                    path_count[neighbor] = 0.0\n",
    "                    predecessors[neighbor] = [current_node]\n",
    "\n",
    "                # If another shortest path to the neighbor is found, update path counts and predecessors\n",
    "                elif distance_to_neighbor == seen_distances[neighbor]:\n",
    "                    path_count[neighbor] += path_count[current_node]\n",
    "                    predecessors[neighbor].append(current_node)\n",
    "\n",
    "        # Accumulate dependencies for betweenness centrality\n",
    "        dependencies = dict.fromkeys(visited_stack, 0)  # Initialize dependency for each node in the stack\n",
    "        while visited_stack:\n",
    "            current_node = visited_stack.pop()  # Pop nodes in reverse order of finishing times\n",
    "            coefficient = (1 + dependencies[current_node]) / path_count[current_node]\n",
    "            for from_node in predecessors[current_node]:\n",
    "                dependencies[from_node] += path_count[from_node] * coefficient\n",
    "\n",
    "            # Accumulate betweenness centrality for nodes other than the start node\n",
    "            if current_node != start_node:\n",
    "                centrality[current_node] += dependencies[current_node]\n",
    "\n",
    "    # Normalize the betweenness centrality values\n",
    "    total_nodes = len(G)  # Total number of nodes in the G\n",
    "    if total_nodes <= 2:\n",
    "        scale_factor = None  # No normalization if there are less than 3 nodes\n",
    "    else:\n",
    "        scale_factor = 1 / ((total_nodes - 1) * (total_nodes - 2))\n",
    "\n",
    "    if scale_factor is not None:\n",
    "        for node in centrality:\n",
    "            centrality[node] *= scale_factor\n",
    "\n",
    "    return centrality\n"
   ]
  },
  {
   "cell_type": "code",
   "execution_count": 125,
   "metadata": {},
   "outputs": [
    {
     "data": {
      "text/plain": [
       "0.004842129824535282"
      ]
     },
     "execution_count": 125,
     "metadata": {},
     "output_type": "execute_result"
    }
   ],
   "source": [
    "betweenness_centrality(flight_network)['LGA']"
   ]
  },
  {
   "cell_type": "code",
   "execution_count": 51,
   "metadata": {},
   "outputs": [
    {
     "data": {
      "text/plain": [
       "0.004842129824535282"
      ]
     },
     "execution_count": 51,
     "metadata": {},
     "output_type": "execute_result"
    }
   ],
   "source": [
    "nx.betweenness_centrality(flight_network,weight='distance')['LGA']"
   ]
  },
  {
   "cell_type": "markdown",
   "metadata": {},
   "source": [
    "Having prepared the flight network, we can get a brief look at the problem we are trying to solve: <br>"
   ]
  },
  {
   "cell_type": "markdown",
   "metadata": {},
   "source": [
    "__Generic Problem__: Single-Source Shortest Paths.\n",
    "\n",
    "__Input__: A directed graph $G = (V, E)$, a starting vertex $s \\in V$, and a nonnegative length $l_e$ for each edge $e \\in E$. <br>\n",
    "__Output__: $dist(s,v)$ for every vertex $v \\in V$. <br> <br>\n",
    "\n",
    "---\n",
    "\n",
    "<h4 style=\"text-align:center;\">Pseudocode for the Algorithm Deployed: <i>(deploy_dijkstra in the shortest_path module)</i></h4>\n",
    "\n",
    "$$Dijkstra's Algorithm$$\n",
    "\n",
    "**Input:**\n",
    "- A graph $ G = (V, E) $ in adjacency-list form. Each edge $ e = (u, v) $ must have a non-negative weight $ l_{u,v} $.\n",
    "- A source node $ s \\in V $.\n",
    "\n",
    "**Output:**\n",
    "- `distances[v]`: The shortest distance from $ s $ to every node $ v $.\n",
    "- `predecessors[v]`: The predecessor of $ v $ in the shortest path, which we will use for path reconstruction.\n",
    "\n",
    "\n",
    "__Steps:__\n",
    "\n",
    "1. **Initialization:**\n",
    "    > Create a `distances` dictionary: <br>\n",
    "     - distances[v] = $+\\infty$ for all $ v \\in V $ (because we don't know the shortest distance).<br>\n",
    "     - distances[s] = 0 (distance to the source is zero).<br>\n",
    "    > Create a `predecessors` dictionary:<br>\n",
    "     - predecessors[v] = None, for all $ v \\in V $ (initially, we don't know the path leading to each V so we equate each to None).<br>\n",
    "    > Create a `priority_queue` (min-heap) and insert $(0, s)$, where first value in the tuple is the initialised distance and second value in the name of the Node. *The queue ensures that the node with the smallest known distance is processed first.*<br>\n",
    "\n",
    "2. **Main Loop:** <br>\n",
    "    While `priority_queue` is not empty: <br>\n",
    "    > Extract the node with the smallest distance by popping the first tuple from the queue: `current_distance, current_node = heapq.heappop(priority_queue)`. <br>\n",
    "    > If `current_distance > distances[current_node]`, skip this node (stale entry). <br>\n",
    "    > For each neighbor $ v $ of `current_node`:<br>\n",
    "       - Retrieve the edge weight (distance): $ l_{current\\_node, v} $.<br>\n",
    "       - Compute the *tentative* distance:<br>\n",
    "         - `new_distance = current_distance + l_{current_node, v}`.<br>\n",
    "       - If `new_distance < distances[v]`:<br>\n",
    "         - Update `distances[v] = new_distance`.<br>\n",
    "         - Update `predecessors[v] = current_node` so that we get a record of what preceeded the node in ordering of distance.<br>\n",
    "         - Push `(new_distance, v)` into the `priority_queue` so that we can iteratively start from the next node with the smallest distance.<br>\n",
    "\n",
    "3. **Returns:**\n",
    "   - `distances`: The shortest distance from $ s $ to every reachable node.\n",
    "   - `predecessors`: The predecessor of each node for path reconstruction.\n",
    "\n",
    "__Postcondition__: for every vertex $v$, the value $len(v)$ equals the true shortest-path distance $dist(s, v)$.\n",
    "\n",
    "---"
   ]
  },
  {
   "cell_type": "markdown",
   "metadata": {},
   "source": [
    "In the the __shortest_path__ module, we have created a function `deploy_dijkstra` using the pseudocode outlined about. It takes a flight network and a source airport code as input, and returns the shortest paths from the source airport to all other airports in the network using Dijkstra's algorithm. For more information, please refer to the docstring of the function using the following command: `help(shortest_path.deploy_dijkstra)` or navigate to the __shortest_path__ module and check the docstring of the function. <br>"
   ]
  },
  {
   "cell_type": "code",
   "execution_count": 12,
   "metadata": {},
   "outputs": [
    {
     "name": "stdout",
     "output_type": "stream",
     "text": [
      "Printing the Docstring of the function deploy_dijkstra for reference:\n",
      "Help on function deploy_dijkstra in module shortest_path:\n",
      "\n",
      "deploy_dijkstra(flight_network, source)\n",
      "    Input:\n",
      "    flight_network: nx.DiGraph\n",
      "    source: str, the origin airport code\n",
      "\n",
      "    Output:\n",
      "    shortest_paths: dict, key: destination airport code, value: shortest path from source to destination\n",
      "    predecessors: dict, key: destination airport code, value: predecessor of the destination airport\n",
      "\n",
      "    About:\n",
      "    This function computes the shortest paths from a source airport to all other airports in the network using Dijkstra's algorithm.\n",
      "\n"
     ]
    }
   ],
   "source": [
    "print(f\"Printing the Docstring of the function deploy_dijkstra for reference:\")\n",
    "help(shortest_path.deploy_dijkstra)"
   ]
  },
  {
   "cell_type": "markdown",
   "metadata": {},
   "source": [
    "Recalling that the questions requires us to take find the shortest paths between airports from an origin city to airports in a destination city considering a __specific date__, we have created a fucntion named as `get_graph_for_a_date`which takes as inputs a date (str) and a directed graph, and returns back a directed graph but with nodes and edges which have the date attribute equal to the inserted into the function. This function will serve as a helper function for the next function `get_shortest_paths_for_a_date` which we will describe shortly. For more information on `get_graph_for_a_date`, please refer to the docstring of the function using the following command: `help(shortest_path.get_graph_for_a_date)` or navigate to the __shortest_path__ module and check the docstring of the function. <br>"
   ]
  },
  {
   "cell_type": "code",
   "execution_count": 8,
   "metadata": {},
   "outputs": [
    {
     "name": "stdout",
     "output_type": "stream",
     "text": [
      "Printing the Docstring of the function get_graph_for_a_date for reference:\n",
      "Help on function get_graph_for_a_date in module modules.shortest_path:\n",
      "\n",
      "get_graph_for_a_date(G, date)\n",
      "    Inputs:\n",
      "    G: (nx.DiGraph): Original graph.\n",
      "    date: (str): Date to filter edges.\n",
      "    \n",
      "    Output:\n",
      "    graph_for_a_date: (nx.DiGraph): Filtered graph.\n",
      "    \n",
      "    About:\n",
      "    Filters the graph to include only flights available on the given date.\n",
      "\n"
     ]
    }
   ],
   "source": [
    "print(f\"Printing the Docstring of the function get_graph_for_a_date for reference:\")\n",
    "help(modules.shortest_path.get_graph_for_a_date)"
   ]
  },
  {
   "cell_type": "markdown",
   "metadata": {},
   "source": [
    "We have defined our Dijkstra's algorithm in a way that it also returns a dictionary of __predecessors__, which is a mapping of each node to its predecessor. This dictionary will be used to reconstruct the shortest path from the source to the destination. Here is where the __helper function__ `reconstruct_path` comes into play. It takes as inputs the predecessors dictionary, the source node, and the destination node, and returns the shortest path as a list of nodes. For more information on `reconstruct_path`, please refer to the docstring of the function using the following command: `help(shortest_path.reconstruct_path)` or navigate to the __shortest_path__ module and check the docstring of the function. <br>"
   ]
  },
  {
   "cell_type": "code",
   "execution_count": 14,
   "metadata": {},
   "outputs": [
    {
     "name": "stdout",
     "output_type": "stream",
     "text": [
      "Printing the Docstring of the function reconstruct_path for reference:\n",
      "Help on function reconstruct_path in module shortest_path:\n",
      "\n",
      "reconstruct_path(predecessors, source, destination)\n",
      "    Inputs:\n",
      "    - predecessors (dict): Mapping of each node to its predecessor.\n",
      "    - source (str): The source node.\n",
      "    - destination (str): The destination node.\n",
      "\n",
      "    Output:\n",
      "    path: (list): List of nodes representing the shortest path.\n",
      "\n",
      "    About:\n",
      "    Reconstructs the shortest path from source to destination.\n",
      "\n"
     ]
    }
   ],
   "source": [
    "print(f\"Printing the Docstring of the function reconstruct_path for reference:\")\n",
    "help(shortest_path.reconstruct_path)"
   ]
  },
  {
   "cell_type": "markdown",
   "metadata": {},
   "source": [
    "Finally, we can move on to the main function `get_shortest_paths_for_a_date`. This function takes as inputs a date (str), a source city (str), a destination city (str), and a directed graph, and returns the shortest paths, in form of a __table__, from all the airports in the source city to all airports in the destination city on the given date. The function uses the helper functions `get_graph_for_a_date`, `deploy_dijkstra`, and `reconstruct_path` to achieve this. For more information on `get_shortest_paths_for_a_date`, please refer to the docstring of the function using the following command: `help(shortest_path.get_shortest_paths_for_a_date)` or navigate to the __shortest_path__ module and check the docstring of the function."
   ]
  },
  {
   "cell_type": "code",
   "execution_count": 15,
   "metadata": {},
   "outputs": [
    {
     "name": "stdout",
     "output_type": "stream",
     "text": [
      "Printing the Docstring of the function get_shortest_paths_for_a_date for reference:\n",
      "Help on function get_shortest_paths_for_a_date in module shortest_path:\n",
      "\n",
      "get_shortest_paths_for_a_date(flight_network, origin_city_name, destination_city_name, date)\n",
      "    Inputs:\n",
      "    flight_network: nx.DiGraph, the flight network\n",
      "    origin_city_name: str, the name of the origin city\n",
      "    destination_city_name: str, the name of the destination city\n",
      "    date: str, the date of the flight\n",
      "\n",
      "    Output:\n",
      "    df: pd.DataFrame, the table with the best routes\n",
      "\n",
      "    About:\n",
      "    This function computes the best routes between all possible airport pairs between the origin and destination cities on a given date.\n",
      "\n"
     ]
    }
   ],
   "source": [
    "print(f\"Printing the Docstring of the function get_shortest_paths_for_a_date for reference:\")\n",
    "help(shortest_path.get_shortest_paths_for_a_date)"
   ]
  },
  {
   "cell_type": "code",
   "execution_count": 9,
   "metadata": {},
   "outputs": [],
   "source": [
    "np.random.seed(21) # Set the seed for reproducibility\n",
    "origin_city = \"New York, NY\"\n",
    "destination_city = \"Los Angeles, CA\"    \n",
    "all_dates = list(set(working_df.Fly_date.values)) # Get all the dates in the dataset\n",
    "date = np.random.choice(all_dates) # Randomly select one date using np.random.choice\n",
    "shortest_paths = modules.shortest_path.get_shortest_paths_for_a_date(flight_network, origin_city, destination_city, date)"
   ]
  },
  {
   "cell_type": "code",
   "execution_count": 10,
   "metadata": {},
   "outputs": [
    {
     "name": "stdout",
     "output_type": "stream",
     "text": [
      "The following table prints the best routes from a particular airport in a specific origin city to a particular airport in a specific destination city on a particular date: 2006-07-01\n"
     ]
    },
    {
     "data": {
      "text/html": [
       "<div>\n",
       "<style scoped>\n",
       "    .dataframe tbody tr th:only-of-type {\n",
       "        vertical-align: middle;\n",
       "    }\n",
       "\n",
       "    .dataframe tbody tr th {\n",
       "        vertical-align: top;\n",
       "    }\n",
       "\n",
       "    .dataframe thead th {\n",
       "        text-align: right;\n",
       "    }\n",
       "</style>\n",
       "<table border=\"1\" class=\"dataframe\">\n",
       "  <thead>\n",
       "    <tr style=\"text-align: right;\">\n",
       "      <th></th>\n",
       "      <th>Origin_city_airport</th>\n",
       "      <th>Destination_city_airport</th>\n",
       "      <th>Best_route</th>\n",
       "      <th>Total_distance</th>\n",
       "    </tr>\n",
       "  </thead>\n",
       "  <tbody>\n",
       "    <tr>\n",
       "      <th>0</th>\n",
       "      <td>JFK</td>\n",
       "      <td>LAX</td>\n",
       "      <td>No route found</td>\n",
       "      <td>None</td>\n",
       "    </tr>\n",
       "    <tr>\n",
       "      <th>1</th>\n",
       "      <td>LGA</td>\n",
       "      <td>LAX</td>\n",
       "      <td>No route found</td>\n",
       "      <td>None</td>\n",
       "    </tr>\n",
       "    <tr>\n",
       "      <th>2</th>\n",
       "      <td>JRA</td>\n",
       "      <td>LAX</td>\n",
       "      <td>No route found</td>\n",
       "      <td>None</td>\n",
       "    </tr>\n",
       "    <tr>\n",
       "      <th>3</th>\n",
       "      <td>JRB</td>\n",
       "      <td>LAX</td>\n",
       "      <td>No route found</td>\n",
       "      <td>None</td>\n",
       "    </tr>\n",
       "    <tr>\n",
       "      <th>4</th>\n",
       "      <td>TSS</td>\n",
       "      <td>LAX</td>\n",
       "      <td>No route found</td>\n",
       "      <td>None</td>\n",
       "    </tr>\n",
       "    <tr>\n",
       "      <th>5</th>\n",
       "      <td>WTC</td>\n",
       "      <td>LAX</td>\n",
       "      <td>No route found</td>\n",
       "      <td>None</td>\n",
       "    </tr>\n",
       "  </tbody>\n",
       "</table>\n",
       "</div>"
      ],
      "text/plain": [
       "  Origin_city_airport Destination_city_airport      Best_route Total_distance\n",
       "0                 JFK                      LAX  No route found           None\n",
       "1                 LGA                      LAX  No route found           None\n",
       "2                 JRA                      LAX  No route found           None\n",
       "3                 JRB                      LAX  No route found           None\n",
       "4                 TSS                      LAX  No route found           None\n",
       "5                 WTC                      LAX  No route found           None"
      ]
     },
     "execution_count": 10,
     "metadata": {},
     "output_type": "execute_result"
    }
   ],
   "source": [
    "print(f\"The following table prints the best routes from a particular airport in a specific origin city to a particular airport in a specific destination city on a particular date: {date}\")\n",
    "shortest_paths"
   ]
  },
  {
   "cell_type": "markdown",
   "metadata": {},
   "source": [
    "Even though it was not requested, we also added total_distance from origin airport to the destination airport for comparisons. To confirm if our results are correct, we thought of checking about the possibility that the there is an edge (a flight) from an airport in New York to an airport in Los Angeles (only LAX) because both cities are rather infamous. If there is an edge, then obviously that should be the shortest path between the two airports (instead of taking multiple connecting flights)"
   ]
  },
  {
   "cell_type": "code",
   "execution_count": 27,
   "metadata": {},
   "outputs": [
    {
     "name": "stdout",
     "output_type": "stream",
     "text": [
      "Airports for New York City: ['JFK', 'LGA', 'JRA', 'JRB', 'TSS', 'WTC']\n",
      "Airports for Los Angeles: ['LAX']\n",
      "No flight available from New York City to Los Angeles, on 2009-09-01 from airport JFK to ['LAX']. For this reason, no distance available\n",
      "No flight available from New York City to Los Angeles, on 2009-09-01 from airport LGA to ['LAX']. For this reason, no distance available\n",
      "No flight available from New York City to Los Angeles, on 2009-09-01 from airport JRA to ['LAX']. For this reason, no distance available\n",
      "No flight available from New York City to Los Angeles, on 2009-09-01 from airport JRB to ['LAX']. For this reason, no distance available\n",
      "No flight available from New York City to Los Angeles, on 2009-09-01 from airport TSS to ['LAX']. For this reason, no distance available\n",
      "No flight available from New York City to Los Angeles, on 2009-09-01 from airport WTC to ['LAX']. For this reason, no distance available\n"
     ]
    }
   ],
   "source": [
    "# Get the filtered flight network for the specific date\n",
    "flight_network_filtered = shortest_path.get_graph_for_a_date(flight_network, date)\n",
    "\n",
    "# Get airports for New York City\n",
    "airports_for_nyc = [airport_code for airport_code, data in flight_network_filtered.nodes(data=True) if data['city'] == 'New York, NY']\n",
    "print(f\"Airports for New York City: {airports_for_nyc}\")\n",
    "\n",
    "# Get airports for Los Angeles\n",
    "airports_for_la = [airport_code for airport_code, data in flight_network_filtered.nodes(data=True) if data['city'] == 'Los Angeles, CA']\n",
    "print(f\"Airports for Los Angeles: {airports_for_la}\")\n",
    "\n",
    "# Check for flights from New York City to Los Angeles\n",
    "for airport_code in airports_for_nyc:\n",
    "    if flight_network_filtered.has_edge(airport_code, airports_for_la[0]):\n",
    "        print(f\"Flight from New York City to Los Angeles on {date} is available from airport {airport_code}\")\n",
    "        # Print the distances\n",
    "        print(f\"Distance: {flight_network_filtered[airport_code][airports_for_la[0]]['distance']} miles\")\n",
    "    else:\n",
    "        print(f\"No flight available from New York City to Los Angeles, on {date} from airport {airport_code} to {airports_for_la}. For this reason, no distance available\")"
   ]
  },
  {
   "cell_type": "markdown",
   "metadata": {},
   "source": [
    "The output above shows that there was no direct flight from NYC to LA - thus solidying the correctness of our results."
   ]
  },
  {
   "cell_type": "markdown",
   "metadata": {},
   "source": [
    "---\n",
    "\n",
    "**Another check**\n",
    "\n",
    "Using the original flight network (not filtered by date) to check for flights from New York City to Los Angeles so that we can get the date of the flight"
   ]
  },
  {
   "cell_type": "code",
   "execution_count": 32,
   "metadata": {},
   "outputs": [
    {
     "name": "stdout",
     "output_type": "stream",
     "text": [
      "Airports for New York City: ['JFK', 'LGA', 'JRA', 'JRB', 'TSS', 'WTC']\n",
      "Airports for Los Angeles: ['LAX']\n",
      "Flight from New York City to Los Angeles on 2009-12-01 is available from airport JFK\n",
      "Distance: 2475 miles\n",
      "Flight from New York City to Los Angeles on 2009-10-01 is available from airport LGA\n",
      "Distance: 2469 miles\n",
      "No flight available from New York City to Los Angeles, on 2009-09-01 from airport JRA to LAX. For this reason, no distance available\n",
      "No flight available from New York City to Los Angeles, on 2009-09-01 from airport JRB to LAX. For this reason, no distance available\n",
      "No flight available from New York City to Los Angeles, on 2009-09-01 from airport TSS to LAX. For this reason, no distance available\n",
      "No flight available from New York City to Los Angeles, on 2009-09-01 from airport WTC to LAX. For this reason, no distance available\n"
     ]
    }
   ],
   "source": [
    "airports_for_nyc = [airport_code for airport_code, data in flight_network.nodes(data=True) if data['city'] == 'New York, NY']\n",
    "print(f\"Airports for New York City: {airports_for_nyc}\")\n",
    "\n",
    "# Get airports for Los Angeles\n",
    "airports_for_la = [airport_code for airport_code, data in flight_network.nodes(data=True) if data['city'] == 'Los Angeles, CA']\n",
    "print(f\"Airports for Los Angeles: {airports_for_la}\")\n",
    "\n",
    "# Check for flights from New York City to Los Angeles\n",
    "for airport_code in airports_for_nyc:\n",
    "    if flight_network.has_edge(airport_code, airports_for_la[0]):\n",
    "        print(f\"Flight from New York City to Los Angeles on {flight_network[airport_code][airports_for_la[0]]['date']} is available from airport {airport_code}\")\n",
    "        # Print the distances\n",
    "        print(f\"Distance: {flight_network[airport_code][airports_for_la[0]]['distance']} miles\")\n",
    "    else:\n",
    "        print(f\"No flight available from New York City to Los Angeles, on {date} from airport {airport_code} to {airports_for_la[0]}. For this reason, no distance available\")"
   ]
  },
  {
   "cell_type": "code",
   "execution_count": 33,
   "metadata": {},
   "outputs": [
    {
     "name": "stdout",
     "output_type": "stream",
     "text": [
      "The following table prints the best routes from a particular airport in a specific origin city to a particular airport in a specific destination city on a particular date\n"
     ]
    },
    {
     "data": {
      "text/html": [
       "<div>\n",
       "<style scoped>\n",
       "    .dataframe tbody tr th:only-of-type {\n",
       "        vertical-align: middle;\n",
       "    }\n",
       "\n",
       "    .dataframe tbody tr th {\n",
       "        vertical-align: top;\n",
       "    }\n",
       "\n",
       "    .dataframe thead th {\n",
       "        text-align: right;\n",
       "    }\n",
       "</style>\n",
       "<table border=\"1\" class=\"dataframe\">\n",
       "  <thead>\n",
       "    <tr style=\"text-align: right;\">\n",
       "      <th></th>\n",
       "      <th>Origin_city_airport</th>\n",
       "      <th>Destination_city_airport</th>\n",
       "      <th>Best_route</th>\n",
       "      <th>Total_distance</th>\n",
       "    </tr>\n",
       "  </thead>\n",
       "  <tbody>\n",
       "    <tr>\n",
       "      <th>0</th>\n",
       "      <td>JFK</td>\n",
       "      <td>LAX</td>\n",
       "      <td>JFK-&gt;LAX</td>\n",
       "      <td>2475.0</td>\n",
       "    </tr>\n",
       "    <tr>\n",
       "      <th>1</th>\n",
       "      <td>LGA</td>\n",
       "      <td>LAX</td>\n",
       "      <td>LGA-&gt;ORD-&gt;LAX</td>\n",
       "      <td>2478.0</td>\n",
       "    </tr>\n",
       "    <tr>\n",
       "      <th>2</th>\n",
       "      <td>JRA</td>\n",
       "      <td>LAX</td>\n",
       "      <td>No route found</td>\n",
       "      <td>NaN</td>\n",
       "    </tr>\n",
       "    <tr>\n",
       "      <th>3</th>\n",
       "      <td>JRB</td>\n",
       "      <td>LAX</td>\n",
       "      <td>No route found</td>\n",
       "      <td>NaN</td>\n",
       "    </tr>\n",
       "    <tr>\n",
       "      <th>4</th>\n",
       "      <td>TSS</td>\n",
       "      <td>LAX</td>\n",
       "      <td>No route found</td>\n",
       "      <td>NaN</td>\n",
       "    </tr>\n",
       "    <tr>\n",
       "      <th>5</th>\n",
       "      <td>WTC</td>\n",
       "      <td>LAX</td>\n",
       "      <td>No route found</td>\n",
       "      <td>NaN</td>\n",
       "    </tr>\n",
       "  </tbody>\n",
       "</table>\n",
       "</div>"
      ],
      "text/plain": [
       "  Origin_city_airport Destination_city_airport      Best_route  Total_distance\n",
       "0                 JFK                      LAX        JFK->LAX          2475.0\n",
       "1                 LGA                      LAX   LGA->ORD->LAX          2478.0\n",
       "2                 JRA                      LAX  No route found             NaN\n",
       "3                 JRB                      LAX  No route found             NaN\n",
       "4                 TSS                      LAX  No route found             NaN\n",
       "5                 WTC                      LAX  No route found             NaN"
      ]
     },
     "execution_count": 33,
     "metadata": {},
     "output_type": "execute_result"
    }
   ],
   "source": [
    "date = '2009-12-01'\n",
    "shortest_paths = shortest_path.get_shortest_paths_for_a_date(flight_network, origin_city, destination_city, date)\n",
    "\n",
    "print(f\"The following table prints the best routes from a particular airport in a specific origin city to a particular airport in a specific destination city on a particular date\")\n",
    "\n",
    "shortest_paths"
   ]
  },
  {
   "cell_type": "markdown",
   "metadata": {},
   "source": [
    "The output above shows matches the true minimum intuitive distance!\n",
    "\n",
    "---"
   ]
  }
 ],
 "metadata": {
  "kernelspec": {
   "display_name": "Python 3",
   "language": "python",
   "name": "python3"
  },
  "language_info": {
   "codemirror_mode": {
    "name": "ipython",
    "version": 3
   },
   "file_extension": ".py",
   "mimetype": "text/x-python",
   "name": "python",
   "nbconvert_exporter": "python",
   "pygments_lexer": "ipython3",
   "version": "3.10.16"
  }
 },
 "nbformat": 4,
 "nbformat_minor": 2
}
